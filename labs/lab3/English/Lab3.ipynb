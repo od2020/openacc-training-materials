{
 "cells": [
  {
   "cell_type": "markdown",
   "metadata": {},
   "source": [
    "# OpenACC Tutorial - Lab 3 (GPUs for Science 2020/NERSC)\n",
    "\n",
    "Welcome to the bonus lab of the OpenACC Tutorial. In this lab you learn to further optimize the application we have been working on in the previous 2 labs. The lab uses a Jupyter notebook, like this one, and the PGI Compiler. If you are not familiar with Jupyter, you may execute the commands in a cell by pressing ctrl-enter or pressing the \"Run\" button at the top of the page. This lab is available in C or Fortran, please choose the version that best fits your needs below.\n",
    "\n",
    "* [C/C++ Version](C/README.ipynb)\n",
    "* [Fortran Version](Fortran/README.ipynb)"
   ]
  }
 ],
 "metadata": {
  "kernelspec": {
   "display_name": "gpu4sci_20",
   "language": "python",
   "name": "gpu4sci_20"
  },
  "language_info": {
   "codemirror_mode": {
    "name": "ipython",
    "version": 3
   },
   "file_extension": ".py",
   "mimetype": "text/x-python",
   "name": "python",
   "nbconvert_exporter": "python",
   "pygments_lexer": "ipython3",
   "version": "3.6.9"
  }
 },
 "nbformat": 4,
 "nbformat_minor": 2
}
