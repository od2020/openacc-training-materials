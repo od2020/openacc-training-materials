{
 "cells": [
  {
   "cell_type": "markdown",
   "metadata": {},
   "source": [
    "# Welcome to the OpenACC Tutorial Labs of GPUs for Science 2020!\n",
    "\n",
    "Welcome to the lab portion of the OpenACC Tutorial, sponsored by NVIDIA and NERSC. Please select the appropriate lab below.\n",
    "\n",
    "* [Lab 1](lab1/English/Lab1.ipynb)\n",
    "* [Lab 2](lab2/English/Lab2.ipynb)\n",
    "* [Lab 3](lab3/English/Lab3.ipynb)"
   ]
  }
 ],
 "metadata": {
  "kernelspec": {
   "display_name": "gpu4sci_20",
   "language": "python",
   "name": "gpu4sci_20"
  },
  "language_info": {
   "codemirror_mode": {
    "name": "ipython",
    "version": 3
   },
   "file_extension": ".py",
   "mimetype": "text/x-python",
   "name": "python",
   "nbconvert_exporter": "python",
   "pygments_lexer": "ipython3",
   "version": "3.6.9"
  }
 },
 "nbformat": 4,
 "nbformat_minor": 2
}
